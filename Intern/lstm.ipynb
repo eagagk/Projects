{
 "cells": [
  {
   "cell_type": "code",
   "execution_count": 1,
   "metadata": {},
   "outputs": [
    {
     "data": {
      "text/html": [
       "<div>\n",
       "<style scoped>\n",
       "    .dataframe tbody tr th:only-of-type {\n",
       "        vertical-align: middle;\n",
       "    }\n",
       "\n",
       "    .dataframe tbody tr th {\n",
       "        vertical-align: top;\n",
       "    }\n",
       "\n",
       "    .dataframe thead th {\n",
       "        text-align: right;\n",
       "    }\n",
       "</style>\n",
       "<table border=\"1\" class=\"dataframe\">\n",
       "  <thead>\n",
       "    <tr style=\"text-align: right;\">\n",
       "      <th></th>\n",
       "      <th>Opportunity_ID</th>\n",
       "      <th>Opportunity_stage</th>\n",
       "      <th>market_chan</th>\n",
       "      <th>sales_chan</th>\n",
       "      <th>num_sales_chan</th>\n",
       "      <th>num_mark_chan</th>\n",
       "    </tr>\n",
       "  </thead>\n",
       "  <tbody>\n",
       "    <tr>\n",
       "      <th>0</th>\n",
       "      <td>OPP_0</td>\n",
       "      <td>['Email newsletter(Marketing)', 'LinkedIn ad(C...</td>\n",
       "      <td>['Email newsletter(Marketing)', 'LinkedIn ad(C...</td>\n",
       "      <td>['Enquiry', 'Lead qualified', 'Connect call', ...</td>\n",
       "      <td>4</td>\n",
       "      <td>4</td>\n",
       "    </tr>\n",
       "    <tr>\n",
       "      <th>1</th>\n",
       "      <td>OPP_1</td>\n",
       "      <td>['Email newsletter(Marketing)', 'LinkedIn ad(C...</td>\n",
       "      <td>['Email newsletter(Marketing)', 'LinkedIn ad(C...</td>\n",
       "      <td>['Enquiry', 'Lead qualified']</td>\n",
       "      <td>2</td>\n",
       "      <td>4</td>\n",
       "    </tr>\n",
       "    <tr>\n",
       "      <th>2</th>\n",
       "      <td>OPP_10</td>\n",
       "      <td>['Email newsletter(Marketing)', 'LinkedIn ad(C...</td>\n",
       "      <td>['Email newsletter(Marketing)', 'LinkedIn ad(C...</td>\n",
       "      <td>['Enquiry', 'Lead qualified']</td>\n",
       "      <td>2</td>\n",
       "      <td>4</td>\n",
       "    </tr>\n",
       "    <tr>\n",
       "      <th>3</th>\n",
       "      <td>OPP_100</td>\n",
       "      <td>['Email newsletter(Marketing)', 'LinkedIn ad(C...</td>\n",
       "      <td>['Email newsletter(Marketing)', 'LinkedIn ad(C...</td>\n",
       "      <td>['Enquiry', 'Lead qualified', 'Connect call']</td>\n",
       "      <td>3</td>\n",
       "      <td>4</td>\n",
       "    </tr>\n",
       "    <tr>\n",
       "      <th>4</th>\n",
       "      <td>OPP_1000</td>\n",
       "      <td>['Email newsletter(Marketing)', 'LinkedIn ad(C...</td>\n",
       "      <td>['Email newsletter(Marketing)', 'LinkedIn ad(C...</td>\n",
       "      <td>['Enquiry', 'Lead qualified', 'Connect call', ...</td>\n",
       "      <td>7</td>\n",
       "      <td>4</td>\n",
       "    </tr>\n",
       "    <tr>\n",
       "      <th>...</th>\n",
       "      <td>...</td>\n",
       "      <td>...</td>\n",
       "      <td>...</td>\n",
       "      <td>...</td>\n",
       "      <td>...</td>\n",
       "      <td>...</td>\n",
       "    </tr>\n",
       "    <tr>\n",
       "      <th>130003</th>\n",
       "      <td>OPP_99995</td>\n",
       "      <td>['Email(Support)', 'Email(Support)']</td>\n",
       "      <td>['Email(Support)', 'Email(Support)']</td>\n",
       "      <td>[]</td>\n",
       "      <td>0</td>\n",
       "      <td>2</td>\n",
       "    </tr>\n",
       "    <tr>\n",
       "      <th>130004</th>\n",
       "      <td>OPP_99996</td>\n",
       "      <td>['YouTube(Announcements)']</td>\n",
       "      <td>['YouTube(Announcements)']</td>\n",
       "      <td>[]</td>\n",
       "      <td>0</td>\n",
       "      <td>1</td>\n",
       "    </tr>\n",
       "    <tr>\n",
       "      <th>130005</th>\n",
       "      <td>OPP_99997</td>\n",
       "      <td>['Website(Corporate_page)']</td>\n",
       "      <td>['Website(Corporate_page)']</td>\n",
       "      <td>[]</td>\n",
       "      <td>0</td>\n",
       "      <td>1</td>\n",
       "    </tr>\n",
       "    <tr>\n",
       "      <th>130006</th>\n",
       "      <td>OPP_99998</td>\n",
       "      <td>['Email(Support)', 'Email(Support)', 'Email(Su...</td>\n",
       "      <td>['Email(Support)', 'Email(Support)', 'Email(Su...</td>\n",
       "      <td>[]</td>\n",
       "      <td>0</td>\n",
       "      <td>14</td>\n",
       "    </tr>\n",
       "    <tr>\n",
       "      <th>130007</th>\n",
       "      <td>OPP_99999</td>\n",
       "      <td>['Website(Corporate_page)']</td>\n",
       "      <td>['Website(Corporate_page)']</td>\n",
       "      <td>[]</td>\n",
       "      <td>0</td>\n",
       "      <td>1</td>\n",
       "    </tr>\n",
       "  </tbody>\n",
       "</table>\n",
       "<p>130008 rows × 6 columns</p>\n",
       "</div>"
      ],
      "text/plain": [
       "       Opportunity_ID                                  Opportunity_stage  \\\n",
       "0               OPP_0  ['Email newsletter(Marketing)', 'LinkedIn ad(C...   \n",
       "1               OPP_1  ['Email newsletter(Marketing)', 'LinkedIn ad(C...   \n",
       "2              OPP_10  ['Email newsletter(Marketing)', 'LinkedIn ad(C...   \n",
       "3             OPP_100  ['Email newsletter(Marketing)', 'LinkedIn ad(C...   \n",
       "4            OPP_1000  ['Email newsletter(Marketing)', 'LinkedIn ad(C...   \n",
       "...               ...                                                ...   \n",
       "130003      OPP_99995               ['Email(Support)', 'Email(Support)']   \n",
       "130004      OPP_99996                         ['YouTube(Announcements)']   \n",
       "130005      OPP_99997                        ['Website(Corporate_page)']   \n",
       "130006      OPP_99998  ['Email(Support)', 'Email(Support)', 'Email(Su...   \n",
       "130007      OPP_99999                        ['Website(Corporate_page)']   \n",
       "\n",
       "                                              market_chan  \\\n",
       "0       ['Email newsletter(Marketing)', 'LinkedIn ad(C...   \n",
       "1       ['Email newsletter(Marketing)', 'LinkedIn ad(C...   \n",
       "2       ['Email newsletter(Marketing)', 'LinkedIn ad(C...   \n",
       "3       ['Email newsletter(Marketing)', 'LinkedIn ad(C...   \n",
       "4       ['Email newsletter(Marketing)', 'LinkedIn ad(C...   \n",
       "...                                                   ...   \n",
       "130003               ['Email(Support)', 'Email(Support)']   \n",
       "130004                         ['YouTube(Announcements)']   \n",
       "130005                        ['Website(Corporate_page)']   \n",
       "130006  ['Email(Support)', 'Email(Support)', 'Email(Su...   \n",
       "130007                        ['Website(Corporate_page)']   \n",
       "\n",
       "                                               sales_chan  num_sales_chan  \\\n",
       "0       ['Enquiry', 'Lead qualified', 'Connect call', ...               4   \n",
       "1                           ['Enquiry', 'Lead qualified']               2   \n",
       "2                           ['Enquiry', 'Lead qualified']               2   \n",
       "3           ['Enquiry', 'Lead qualified', 'Connect call']               3   \n",
       "4       ['Enquiry', 'Lead qualified', 'Connect call', ...               7   \n",
       "...                                                   ...             ...   \n",
       "130003                                                 []               0   \n",
       "130004                                                 []               0   \n",
       "130005                                                 []               0   \n",
       "130006                                                 []               0   \n",
       "130007                                                 []               0   \n",
       "\n",
       "        num_mark_chan  \n",
       "0                   4  \n",
       "1                   4  \n",
       "2                   4  \n",
       "3                   4  \n",
       "4                   4  \n",
       "...               ...  \n",
       "130003              2  \n",
       "130004              1  \n",
       "130005              1  \n",
       "130006             14  \n",
       "130007              1  \n",
       "\n",
       "[130008 rows x 6 columns]"
      ]
     },
     "execution_count": 1,
     "metadata": {},
     "output_type": "execute_result"
    }
   ],
   "source": [
    "import pandas as pd\n",
    "data = pd.read_csv('paths(events).csv')\n",
    "data\n"
   ]
  },
  {
   "cell_type": "code",
   "execution_count": 2,
   "metadata": {},
   "outputs": [
    {
     "name": "stdout",
     "output_type": "stream",
     "text": [
      "32644\n"
     ]
    }
   ],
   "source": [
    "l = []\n",
    "for i in data.index:\n",
    "    if 'Lead qualified' in data.loc[i,'sales_chan']:\n",
    "        l.append(data.loc[i,'Opportunity_ID'])\n",
    "\n",
    "print(len(l))"
   ]
  },
  {
   "cell_type": "code",
   "execution_count": 3,
   "metadata": {},
   "outputs": [
    {
     "data": {
      "text/html": [
       "<div>\n",
       "<style scoped>\n",
       "    .dataframe tbody tr th:only-of-type {\n",
       "        vertical-align: middle;\n",
       "    }\n",
       "\n",
       "    .dataframe tbody tr th {\n",
       "        vertical-align: top;\n",
       "    }\n",
       "\n",
       "    .dataframe thead th {\n",
       "        text-align: right;\n",
       "    }\n",
       "</style>\n",
       "<table border=\"1\" class=\"dataframe\">\n",
       "  <thead>\n",
       "    <tr style=\"text-align: right;\">\n",
       "      <th></th>\n",
       "      <th>Opportunity_ID</th>\n",
       "      <th>Opportunity_stage</th>\n",
       "      <th>market_chan</th>\n",
       "      <th>sales_chan</th>\n",
       "      <th>num_sales_chan</th>\n",
       "      <th>num_mark_chan</th>\n",
       "    </tr>\n",
       "  </thead>\n",
       "  <tbody>\n",
       "    <tr>\n",
       "      <th>0</th>\n",
       "      <td>OPP_0</td>\n",
       "      <td>['Email newsletter(Marketing)', 'LinkedIn ad(C...</td>\n",
       "      <td>['Email newsletter(Marketing)', 'LinkedIn ad(C...</td>\n",
       "      <td>['Enquiry', 'Lead qualified', 'Connect call', ...</td>\n",
       "      <td>4</td>\n",
       "      <td>4</td>\n",
       "    </tr>\n",
       "    <tr>\n",
       "      <th>1</th>\n",
       "      <td>OPP_1</td>\n",
       "      <td>['Email newsletter(Marketing)', 'LinkedIn ad(C...</td>\n",
       "      <td>['Email newsletter(Marketing)', 'LinkedIn ad(C...</td>\n",
       "      <td>['Enquiry', 'Lead qualified']</td>\n",
       "      <td>2</td>\n",
       "      <td>4</td>\n",
       "    </tr>\n",
       "    <tr>\n",
       "      <th>2</th>\n",
       "      <td>OPP_10</td>\n",
       "      <td>['Email newsletter(Marketing)', 'LinkedIn ad(C...</td>\n",
       "      <td>['Email newsletter(Marketing)', 'LinkedIn ad(C...</td>\n",
       "      <td>['Enquiry', 'Lead qualified']</td>\n",
       "      <td>2</td>\n",
       "      <td>4</td>\n",
       "    </tr>\n",
       "    <tr>\n",
       "      <th>3</th>\n",
       "      <td>OPP_100</td>\n",
       "      <td>['Email newsletter(Marketing)', 'LinkedIn ad(C...</td>\n",
       "      <td>['Email newsletter(Marketing)', 'LinkedIn ad(C...</td>\n",
       "      <td>['Enquiry', 'Lead qualified', 'Connect call']</td>\n",
       "      <td>3</td>\n",
       "      <td>4</td>\n",
       "    </tr>\n",
       "    <tr>\n",
       "      <th>4</th>\n",
       "      <td>OPP_1000</td>\n",
       "      <td>['Email newsletter(Marketing)', 'LinkedIn ad(C...</td>\n",
       "      <td>['Email newsletter(Marketing)', 'LinkedIn ad(C...</td>\n",
       "      <td>['Enquiry', 'Lead qualified', 'Connect call', ...</td>\n",
       "      <td>7</td>\n",
       "      <td>4</td>\n",
       "    </tr>\n",
       "    <tr>\n",
       "      <th>...</th>\n",
       "      <td>...</td>\n",
       "      <td>...</td>\n",
       "      <td>...</td>\n",
       "      <td>...</td>\n",
       "      <td>...</td>\n",
       "      <td>...</td>\n",
       "    </tr>\n",
       "    <tr>\n",
       "      <th>129943</th>\n",
       "      <td>OPP_9994</td>\n",
       "      <td>['YouTube(Announcements)', 'LinkedIn ad(Webina...</td>\n",
       "      <td>['YouTube(Announcements)', 'LinkedIn ad(Webina...</td>\n",
       "      <td>['Enquiry', 'Lead qualified']</td>\n",
       "      <td>2</td>\n",
       "      <td>3</td>\n",
       "    </tr>\n",
       "    <tr>\n",
       "      <th>129954</th>\n",
       "      <td>OPP_9995</td>\n",
       "      <td>['Google ad(Webinar/Conference)', 'Google ad(W...</td>\n",
       "      <td>['Google ad(Webinar/Conference)', 'Google ad(W...</td>\n",
       "      <td>['Enquiry', 'Lead qualified', 'Connect call', ...</td>\n",
       "      <td>8</td>\n",
       "      <td>6</td>\n",
       "    </tr>\n",
       "    <tr>\n",
       "      <th>129965</th>\n",
       "      <td>OPP_9996</td>\n",
       "      <td>['Google ad(Webinar/Conference)', 'Google ad(W...</td>\n",
       "      <td>['Google ad(Webinar/Conference)', 'Google ad(W...</td>\n",
       "      <td>['Enquiry', 'Lead qualified', 'Connect call', ...</td>\n",
       "      <td>7</td>\n",
       "      <td>5</td>\n",
       "    </tr>\n",
       "    <tr>\n",
       "      <th>129986</th>\n",
       "      <td>OPP_9998</td>\n",
       "      <td>['LinkedIn ad(Webinar/Conference)', 'YouTube(A...</td>\n",
       "      <td>['LinkedIn ad(Webinar/Conference)', 'YouTube(A...</td>\n",
       "      <td>['Enquiry', 'Lead qualified']</td>\n",
       "      <td>2</td>\n",
       "      <td>4</td>\n",
       "    </tr>\n",
       "    <tr>\n",
       "      <th>129997</th>\n",
       "      <td>OPP_9999</td>\n",
       "      <td>['Published article(Financial_times)', 'YouTub...</td>\n",
       "      <td>['Published article(Financial_times)', 'YouTub...</td>\n",
       "      <td>['Enquiry', 'Lead qualified', 'Connect call']</td>\n",
       "      <td>3</td>\n",
       "      <td>4</td>\n",
       "    </tr>\n",
       "  </tbody>\n",
       "</table>\n",
       "<p>32644 rows × 6 columns</p>\n",
       "</div>"
      ],
      "text/plain": [
       "       Opportunity_ID                                  Opportunity_stage  \\\n",
       "0               OPP_0  ['Email newsletter(Marketing)', 'LinkedIn ad(C...   \n",
       "1               OPP_1  ['Email newsletter(Marketing)', 'LinkedIn ad(C...   \n",
       "2              OPP_10  ['Email newsletter(Marketing)', 'LinkedIn ad(C...   \n",
       "3             OPP_100  ['Email newsletter(Marketing)', 'LinkedIn ad(C...   \n",
       "4            OPP_1000  ['Email newsletter(Marketing)', 'LinkedIn ad(C...   \n",
       "...               ...                                                ...   \n",
       "129943       OPP_9994  ['YouTube(Announcements)', 'LinkedIn ad(Webina...   \n",
       "129954       OPP_9995  ['Google ad(Webinar/Conference)', 'Google ad(W...   \n",
       "129965       OPP_9996  ['Google ad(Webinar/Conference)', 'Google ad(W...   \n",
       "129986       OPP_9998  ['LinkedIn ad(Webinar/Conference)', 'YouTube(A...   \n",
       "129997       OPP_9999  ['Published article(Financial_times)', 'YouTub...   \n",
       "\n",
       "                                              market_chan  \\\n",
       "0       ['Email newsletter(Marketing)', 'LinkedIn ad(C...   \n",
       "1       ['Email newsletter(Marketing)', 'LinkedIn ad(C...   \n",
       "2       ['Email newsletter(Marketing)', 'LinkedIn ad(C...   \n",
       "3       ['Email newsletter(Marketing)', 'LinkedIn ad(C...   \n",
       "4       ['Email newsletter(Marketing)', 'LinkedIn ad(C...   \n",
       "...                                                   ...   \n",
       "129943  ['YouTube(Announcements)', 'LinkedIn ad(Webina...   \n",
       "129954  ['Google ad(Webinar/Conference)', 'Google ad(W...   \n",
       "129965  ['Google ad(Webinar/Conference)', 'Google ad(W...   \n",
       "129986  ['LinkedIn ad(Webinar/Conference)', 'YouTube(A...   \n",
       "129997  ['Published article(Financial_times)', 'YouTub...   \n",
       "\n",
       "                                               sales_chan  num_sales_chan  \\\n",
       "0       ['Enquiry', 'Lead qualified', 'Connect call', ...               4   \n",
       "1                           ['Enquiry', 'Lead qualified']               2   \n",
       "2                           ['Enquiry', 'Lead qualified']               2   \n",
       "3           ['Enquiry', 'Lead qualified', 'Connect call']               3   \n",
       "4       ['Enquiry', 'Lead qualified', 'Connect call', ...               7   \n",
       "...                                                   ...             ...   \n",
       "129943                      ['Enquiry', 'Lead qualified']               2   \n",
       "129954  ['Enquiry', 'Lead qualified', 'Connect call', ...               8   \n",
       "129965  ['Enquiry', 'Lead qualified', 'Connect call', ...               7   \n",
       "129986                      ['Enquiry', 'Lead qualified']               2   \n",
       "129997      ['Enquiry', 'Lead qualified', 'Connect call']               3   \n",
       "\n",
       "        num_mark_chan  \n",
       "0                   4  \n",
       "1                   4  \n",
       "2                   4  \n",
       "3                   4  \n",
       "4                   4  \n",
       "...               ...  \n",
       "129943              3  \n",
       "129954              6  \n",
       "129965              5  \n",
       "129986              4  \n",
       "129997              4  \n",
       "\n",
       "[32644 rows x 6 columns]"
      ]
     },
     "execution_count": 3,
     "metadata": {},
     "output_type": "execute_result"
    }
   ],
   "source": [
    "df = data[data.Opportunity_ID.isin(l)]\n",
    "df"
   ]
  },
  {
   "cell_type": "code",
   "execution_count": 4,
   "metadata": {},
   "outputs": [
    {
     "data": {
      "text/plain": [
       "23"
      ]
     },
     "execution_count": 4,
     "metadata": {},
     "output_type": "execute_result"
    }
   ],
   "source": [
    "chans = ['Conference(Booth)',\n",
    " 'Conference(Conventions)',\n",
    " 'Customer referral',\n",
    " 'Email newsletter(Marketing)',\n",
    " 'Email newsletter(Product)',\n",
    " 'Email(Support)',\n",
    " 'Google ad(Display_ad_campaign)',\n",
    " 'Google ad(Product)',\n",
    " 'Google ad(Webinar/Conference)',\n",
    " 'LinkedIn ad(Content_page)',\n",
    " 'LinkedIn ad(Product)',\n",
    " 'LinkedIn ad(Webinar/Conference)',\n",
    " 'LinkedIn ad(linkedin post)',\n",
    " 'Published article(Financial_times)',\n",
    " 'Published article(Forbes_magazine)',\n",
    " 'Published article(Wallstreet_journal)',\n",
    " 'Website(Corporate_page)',\n",
    " 'Website(Product_page)',\n",
    " 'Website(Support_pages)',\n",
    " 'Website(Webinar/Conference_pages)','YouTube(Announcements)',\n",
    " 'YouTube(Conference_related)',\n",
    " 'YouTube(Product_support)']\n",
    "len(chans)"
   ]
  },
  {
   "cell_type": "code",
   "execution_count": 5,
   "metadata": {},
   "outputs": [
    {
     "data": {
      "text/html": [
       "<div>\n",
       "<style scoped>\n",
       "    .dataframe tbody tr th:only-of-type {\n",
       "        vertical-align: middle;\n",
       "    }\n",
       "\n",
       "    .dataframe tbody tr th {\n",
       "        vertical-align: top;\n",
       "    }\n",
       "\n",
       "    .dataframe thead th {\n",
       "        text-align: right;\n",
       "    }\n",
       "</style>\n",
       "<table border=\"1\" class=\"dataframe\">\n",
       "  <thead>\n",
       "    <tr style=\"text-align: right;\">\n",
       "      <th></th>\n",
       "      <th>journey</th>\n",
       "      <th>number_of_opportunities</th>\n",
       "    </tr>\n",
       "  </thead>\n",
       "  <tbody>\n",
       "    <tr>\n",
       "      <th>0</th>\n",
       "      <td>['Email newsletter(Marketing)', 'LinkedIn ad(C...</td>\n",
       "      <td>19749</td>\n",
       "    </tr>\n",
       "    <tr>\n",
       "      <th>1</th>\n",
       "      <td>['Google ad(Display_ad_campaign)', 'YouTube(Pr...</td>\n",
       "      <td>5249</td>\n",
       "    </tr>\n",
       "    <tr>\n",
       "      <th>2</th>\n",
       "      <td>['Email newsletter(Marketing)', 'LinkedIn ad(W...</td>\n",
       "      <td>1334</td>\n",
       "    </tr>\n",
       "    <tr>\n",
       "      <th>3</th>\n",
       "      <td>['Email newsletter(Marketing)', 'LinkedIn ad(l...</td>\n",
       "      <td>1013</td>\n",
       "    </tr>\n",
       "    <tr>\n",
       "      <th>4</th>\n",
       "      <td>['Google ad(Display_ad_campaign)', 'Email news...</td>\n",
       "      <td>812</td>\n",
       "    </tr>\n",
       "    <tr>\n",
       "      <th>...</th>\n",
       "      <td>...</td>\n",
       "      <td>...</td>\n",
       "    </tr>\n",
       "    <tr>\n",
       "      <th>2091</th>\n",
       "      <td>['Website(Product_page)', 'Website(Product_pag...</td>\n",
       "      <td>1</td>\n",
       "    </tr>\n",
       "    <tr>\n",
       "      <th>2092</th>\n",
       "      <td>['Email newsletter(Product)', 'Google ad(Displ...</td>\n",
       "      <td>1</td>\n",
       "    </tr>\n",
       "    <tr>\n",
       "      <th>2093</th>\n",
       "      <td>['Published article(Wallstreet_journal)', 'Lin...</td>\n",
       "      <td>1</td>\n",
       "    </tr>\n",
       "    <tr>\n",
       "      <th>2094</th>\n",
       "      <td>['Google ad(Display_ad_campaign)', 'Website(Pr...</td>\n",
       "      <td>1</td>\n",
       "    </tr>\n",
       "    <tr>\n",
       "      <th>2095</th>\n",
       "      <td>['LinkedIn ad(Webinar/Conference)', 'YouTube(A...</td>\n",
       "      <td>1</td>\n",
       "    </tr>\n",
       "  </tbody>\n",
       "</table>\n",
       "<p>2096 rows × 2 columns</p>\n",
       "</div>"
      ],
      "text/plain": [
       "                                                journey  \\\n",
       "0     ['Email newsletter(Marketing)', 'LinkedIn ad(C...   \n",
       "1     ['Google ad(Display_ad_campaign)', 'YouTube(Pr...   \n",
       "2     ['Email newsletter(Marketing)', 'LinkedIn ad(W...   \n",
       "3     ['Email newsletter(Marketing)', 'LinkedIn ad(l...   \n",
       "4     ['Google ad(Display_ad_campaign)', 'Email news...   \n",
       "...                                                 ...   \n",
       "2091  ['Website(Product_page)', 'Website(Product_pag...   \n",
       "2092  ['Email newsletter(Product)', 'Google ad(Displ...   \n",
       "2093  ['Published article(Wallstreet_journal)', 'Lin...   \n",
       "2094  ['Google ad(Display_ad_campaign)', 'Website(Pr...   \n",
       "2095  ['LinkedIn ad(Webinar/Conference)', 'YouTube(A...   \n",
       "\n",
       "      number_of_opportunities  \n",
       "0                       19749  \n",
       "1                        5249  \n",
       "2                        1334  \n",
       "3                        1013  \n",
       "4                         812  \n",
       "...                       ...  \n",
       "2091                        1  \n",
       "2092                        1  \n",
       "2093                        1  \n",
       "2094                        1  \n",
       "2095                        1  \n",
       "\n",
       "[2096 rows x 2 columns]"
      ]
     },
     "execution_count": 5,
     "metadata": {},
     "output_type": "execute_result"
    }
   ],
   "source": [
    "journeys = df['market_chan'].value_counts()\n",
    "col01 = list(journeys.index)\n",
    "col02 = list(journeys)\n",
    "journeys = pd.DataFrame(list(zip(col01,col02)), columns =['journey', 'number_of_opportunities'])\n",
    "journeys"
   ]
  },
  {
   "cell_type": "code",
   "execution_count": null,
   "metadata": {},
   "outputs": [],
   "source": [
    "journeys.to_csv('qualified_journeys.csv', index=False)"
   ]
  },
  {
   "cell_type": "code",
   "execution_count": 6,
   "metadata": {},
   "outputs": [
    {
     "name": "stdout",
     "output_type": "stream",
     "text": [
      "<class 'pandas.core.frame.DataFrame'>\n",
      "Int64Index: 32644 entries, 0 to 129997\n",
      "Data columns (total 6 columns):\n",
      " #   Column             Non-Null Count  Dtype \n",
      "---  ------             --------------  ----- \n",
      " 0   Opportunity_ID     32644 non-null  object\n",
      " 1   Opportunity_stage  32644 non-null  object\n",
      " 2   market_chan        32644 non-null  object\n",
      " 3   sales_chan         32644 non-null  object\n",
      " 4   num_sales_chan     32644 non-null  int64 \n",
      " 5   num_mark_chan      32644 non-null  int64 \n",
      "dtypes: int64(2), object(4)\n",
      "memory usage: 1.7+ MB\n"
     ]
    }
   ],
   "source": [
    "df.info()"
   ]
  },
  {
   "cell_type": "code",
   "execution_count": 7,
   "metadata": {},
   "outputs": [
    {
     "name": "stdout",
     "output_type": "stream",
     "text": [
      "{'Conference(Booth)': 1, 'Conference(Conventions)': 2, 'Customer referral': 3, 'Email newsletter(Marketing)': 4, 'Email newsletter(Product)': 5, 'Email(Support)': 6, 'Google ad(Display_ad_campaign)': 7, 'Google ad(Product)': 8, 'Google ad(Webinar/Conference)': 9, 'LinkedIn ad(Content_page)': 10, 'LinkedIn ad(Product)': 11, 'LinkedIn ad(Webinar/Conference)': 12, 'LinkedIn ad(linkedin post)': 13, 'Published article(Financial_times)': 14, 'Published article(Forbes_magazine)': 15, 'Published article(Wallstreet_journal)': 16, 'Website(Corporate_page)': 17, 'Website(Product_page)': 18, 'Website(Support_pages)': 19, 'Website(Webinar/Conference_pages)': 20, 'YouTube(Announcements)': 21, 'YouTube(Conference_related)': 22, 'YouTube(Product_support)': 23}\n"
     ]
    }
   ],
   "source": [
    "nums = pd.factorize(chans)\n",
    "nums = nums[0]\n",
    "d = {}\n",
    "for i in range(len(chans)):\n",
    "    if chans[i] in d:\n",
    "        d[i] += 1\n",
    "    else:\n",
    "        d[chans[i]] = 1 + nums[i]\n",
    "print(d)"
   ]
  },
  {
   "cell_type": "code",
   "execution_count": 10,
   "metadata": {},
   "outputs": [
    {
     "data": {
      "text/plain": [
       "['Email newsletter(Marketing)',\n",
       " 'LinkedIn ad(Content_page)',\n",
       " 'YouTube(Product_support)',\n",
       " 'Website(Product_page)']"
      ]
     },
     "execution_count": 10,
     "metadata": {},
     "output_type": "execute_result"
    }
   ],
   "source": [
    "import ast\n",
    "a = df.iloc[0,2]\n",
    "a = ast.literal_eval(a)\n",
    "a"
   ]
  },
  {
   "cell_type": "code",
   "execution_count": 11,
   "metadata": {},
   "outputs": [
    {
     "name": "stdout",
     "output_type": "stream",
     "text": [
      "[4, 10, 23, 18]\n"
     ]
    }
   ],
   "source": [
    "def fun(a,d):\n",
    "    a = [d[i] for i in a]\n",
    "    return a\n",
    "\n",
    "print(fun(a,d))"
   ]
  },
  {
   "cell_type": "code",
   "execution_count": 12,
   "metadata": {},
   "outputs": [
    {
     "name": "stderr",
     "output_type": "stream",
     "text": [
      "C:\\Users\\Toshiba\\AppData\\Local\\Temp/ipykernel_8660/900276578.py:1: SettingWithCopyWarning: \n",
      "A value is trying to be set on a copy of a slice from a DataFrame.\n",
      "Try using .loc[row_indexer,col_indexer] = value instead\n",
      "\n",
      "See the caveats in the documentation: https://pandas.pydata.org/pandas-docs/stable/user_guide/indexing.html#returning-a-view-versus-a-copy\n",
      "  df['Opportunity_stage'] = df['Opportunity_stage'].apply(lambda x:ast.literal_eval(x))\n",
      "C:\\Users\\Toshiba\\AppData\\Local\\Temp/ipykernel_8660/900276578.py:2: SettingWithCopyWarning: \n",
      "A value is trying to be set on a copy of a slice from a DataFrame.\n",
      "Try using .loc[row_indexer,col_indexer] = value instead\n",
      "\n",
      "See the caveats in the documentation: https://pandas.pydata.org/pandas-docs/stable/user_guide/indexing.html#returning-a-view-versus-a-copy\n",
      "  df['market_chan'] = df['market_chan'].apply(lambda x:ast.literal_eval(x))\n",
      "C:\\Users\\Toshiba\\AppData\\Local\\Temp/ipykernel_8660/900276578.py:3: SettingWithCopyWarning: \n",
      "A value is trying to be set on a copy of a slice from a DataFrame.\n",
      "Try using .loc[row_indexer,col_indexer] = value instead\n",
      "\n",
      "See the caveats in the documentation: https://pandas.pydata.org/pandas-docs/stable/user_guide/indexing.html#returning-a-view-versus-a-copy\n",
      "  df['sales_chan'] = df['sales_chan'].apply(lambda x:ast.literal_eval(x))\n"
     ]
    }
   ],
   "source": [
    "df['Opportunity_stage'] = df['Opportunity_stage'].apply(lambda x:ast.literal_eval(x))\n",
    "df['market_chan'] = df['market_chan'].apply(lambda x:ast.literal_eval(x))\n",
    "df['sales_chan'] = df['sales_chan'].apply(lambda x:ast.literal_eval(x))"
   ]
  },
  {
   "cell_type": "code",
   "execution_count": 13,
   "metadata": {},
   "outputs": [
    {
     "name": "stderr",
     "output_type": "stream",
     "text": [
      "C:\\Users\\Toshiba\\AppData\\Local\\Temp/ipykernel_8660/2720724863.py:1: SettingWithCopyWarning: \n",
      "A value is trying to be set on a copy of a slice from a DataFrame.\n",
      "Try using .loc[row_indexer,col_indexer] = value instead\n",
      "\n",
      "See the caveats in the documentation: https://pandas.pydata.org/pandas-docs/stable/user_guide/indexing.html#returning-a-view-versus-a-copy\n",
      "  df['encoding'] = df['market_chan'].apply(lambda x: fun(x,d))\n"
     ]
    }
   ],
   "source": [
    "df['encoding'] = df['market_chan'].apply(lambda x: fun(x,d))"
   ]
  },
  {
   "cell_type": "code",
   "execution_count": 14,
   "metadata": {},
   "outputs": [
    {
     "name": "stderr",
     "output_type": "stream",
     "text": [
      "C:\\Users\\Toshiba\\AppData\\Local\\Temp/ipykernel_8660/972039279.py:1: SettingWithCopyWarning: \n",
      "A value is trying to be set on a copy of a slice from a DataFrame.\n",
      "Try using .loc[row_indexer,col_indexer] = value instead\n",
      "\n",
      "See the caveats in the documentation: https://pandas.pydata.org/pandas-docs/stable/user_guide/indexing.html#returning-a-view-versus-a-copy\n",
      "  df['conversion'] = 0\n",
      "c:\\Users\\Toshiba\\anaconda3\\lib\\site-packages\\pandas\\core\\indexing.py:1817: SettingWithCopyWarning: \n",
      "A value is trying to be set on a copy of a slice from a DataFrame.\n",
      "Try using .loc[row_indexer,col_indexer] = value instead\n",
      "\n",
      "See the caveats in the documentation: https://pandas.pydata.org/pandas-docs/stable/user_guide/indexing.html#returning-a-view-versus-a-copy\n",
      "  self._setitem_single_column(loc, value, pi)\n"
     ]
    }
   ],
   "source": [
    "df['conversion'] = 0\n",
    "for i in df.index:\n",
    "    if 'Contract signed' in df.loc[i,'sales_chan']:\n",
    "        df.loc[i,'conversion'] = 1"
   ]
  },
  {
   "cell_type": "code",
   "execution_count": 15,
   "metadata": {},
   "outputs": [
    {
     "data": {
      "text/plain": [
       "3297"
      ]
     },
     "execution_count": 15,
     "metadata": {},
     "output_type": "execute_result"
    }
   ],
   "source": [
    "df.conversion.sum()"
   ]
  },
  {
   "cell_type": "code",
   "execution_count": 16,
   "metadata": {},
   "outputs": [
    {
     "data": {
      "text/html": [
       "<div>\n",
       "<style scoped>\n",
       "    .dataframe tbody tr th:only-of-type {\n",
       "        vertical-align: middle;\n",
       "    }\n",
       "\n",
       "    .dataframe tbody tr th {\n",
       "        vertical-align: top;\n",
       "    }\n",
       "\n",
       "    .dataframe thead th {\n",
       "        text-align: right;\n",
       "    }\n",
       "</style>\n",
       "<table border=\"1\" class=\"dataframe\">\n",
       "  <thead>\n",
       "    <tr style=\"text-align: right;\">\n",
       "      <th></th>\n",
       "      <th>encoding</th>\n",
       "      <th>conversion</th>\n",
       "    </tr>\n",
       "  </thead>\n",
       "  <tbody>\n",
       "    <tr>\n",
       "      <th>0</th>\n",
       "      <td>[4, 10, 23, 18]</td>\n",
       "      <td>0</td>\n",
       "    </tr>\n",
       "    <tr>\n",
       "      <th>1</th>\n",
       "      <td>[4, 10, 23, 18]</td>\n",
       "      <td>0</td>\n",
       "    </tr>\n",
       "    <tr>\n",
       "      <th>2</th>\n",
       "      <td>[4, 10, 23, 18]</td>\n",
       "      <td>0</td>\n",
       "    </tr>\n",
       "    <tr>\n",
       "      <th>3</th>\n",
       "      <td>[4, 10, 23, 18]</td>\n",
       "      <td>0</td>\n",
       "    </tr>\n",
       "    <tr>\n",
       "      <th>4</th>\n",
       "      <td>[4, 10, 23, 18]</td>\n",
       "      <td>0</td>\n",
       "    </tr>\n",
       "    <tr>\n",
       "      <th>...</th>\n",
       "      <td>...</td>\n",
       "      <td>...</td>\n",
       "    </tr>\n",
       "    <tr>\n",
       "      <th>129943</th>\n",
       "      <td>[21, 12, 17]</td>\n",
       "      <td>0</td>\n",
       "    </tr>\n",
       "    <tr>\n",
       "      <th>129954</th>\n",
       "      <td>[9, 9, 9, 21, 17, 21]</td>\n",
       "      <td>1</td>\n",
       "    </tr>\n",
       "    <tr>\n",
       "      <th>129965</th>\n",
       "      <td>[9, 9, 21, 6, 12]</td>\n",
       "      <td>0</td>\n",
       "    </tr>\n",
       "    <tr>\n",
       "      <th>129986</th>\n",
       "      <td>[12, 21, 12, 6]</td>\n",
       "      <td>0</td>\n",
       "    </tr>\n",
       "    <tr>\n",
       "      <th>129997</th>\n",
       "      <td>[14, 21, 6, 21]</td>\n",
       "      <td>0</td>\n",
       "    </tr>\n",
       "  </tbody>\n",
       "</table>\n",
       "<p>32644 rows × 2 columns</p>\n",
       "</div>"
      ],
      "text/plain": [
       "                     encoding  conversion\n",
       "0             [4, 10, 23, 18]           0\n",
       "1             [4, 10, 23, 18]           0\n",
       "2             [4, 10, 23, 18]           0\n",
       "3             [4, 10, 23, 18]           0\n",
       "4             [4, 10, 23, 18]           0\n",
       "...                       ...         ...\n",
       "129943           [21, 12, 17]           0\n",
       "129954  [9, 9, 9, 21, 17, 21]           1\n",
       "129965      [9, 9, 21, 6, 12]           0\n",
       "129986        [12, 21, 12, 6]           0\n",
       "129997        [14, 21, 6, 21]           0\n",
       "\n",
       "[32644 rows x 2 columns]"
      ]
     },
     "execution_count": 16,
     "metadata": {},
     "output_type": "execute_result"
    }
   ],
   "source": [
    "df_new = df[['encoding','conversion']]\n",
    "df_new"
   ]
  },
  {
   "cell_type": "code",
   "execution_count": 18,
   "metadata": {},
   "outputs": [],
   "source": [
    "import numpy as np"
   ]
  },
  {
   "cell_type": "code",
   "execution_count": 19,
   "metadata": {},
   "outputs": [
    {
     "data": {
      "text/plain": [
       "array([list([4, 10, 23, 18]), list([4, 10, 23, 18]),\n",
       "       list([4, 10, 23, 18]), ..., list([9, 9, 21, 6, 12]),\n",
       "       list([12, 21, 12, 6]), list([14, 21, 6, 21])], dtype=object)"
      ]
     },
     "execution_count": 19,
     "metadata": {},
     "output_type": "execute_result"
    }
   ],
   "source": [
    "X = np.array(df['encoding'])\n",
    "X"
   ]
  },
  {
   "cell_type": "code",
   "execution_count": 20,
   "metadata": {},
   "outputs": [],
   "source": [
    "b = [len(i) for i in X]\n",
    "seq_len = max(b)"
   ]
  },
  {
   "cell_type": "code",
   "execution_count": 21,
   "metadata": {},
   "outputs": [
    {
     "data": {
      "text/plain": [
       "47"
      ]
     },
     "execution_count": 21,
     "metadata": {},
     "output_type": "execute_result"
    }
   ],
   "source": [
    "seq_len"
   ]
  },
  {
   "cell_type": "code",
   "execution_count": 22,
   "metadata": {},
   "outputs": [
    {
     "data": {
      "text/plain": [
       "array([[ 0,  0,  0, ..., 10, 23, 18],\n",
       "       [ 0,  0,  0, ..., 10, 23, 18],\n",
       "       [ 0,  0,  0, ..., 10, 23, 18],\n",
       "       ...,\n",
       "       [ 0,  0,  0, ..., 21,  6, 12],\n",
       "       [ 0,  0,  0, ..., 21, 12,  6],\n",
       "       [ 0,  0,  0, ..., 21,  6, 21]])"
      ]
     },
     "execution_count": 22,
     "metadata": {},
     "output_type": "execute_result"
    }
   ],
   "source": [
    "from keras.preprocessing.sequence import pad_sequences\n",
    "import numpy as np\n",
    "\n",
    "X = pad_sequences(X,seq_len)\n",
    "X"
   ]
  },
  {
   "cell_type": "code",
   "execution_count": 23,
   "metadata": {},
   "outputs": [
    {
     "data": {
      "text/plain": [
       "(32644, 47)"
      ]
     },
     "execution_count": 23,
     "metadata": {},
     "output_type": "execute_result"
    }
   ],
   "source": [
    "X.shape"
   ]
  },
  {
   "cell_type": "code",
   "execution_count": 24,
   "metadata": {},
   "outputs": [
    {
     "data": {
      "text/plain": [
       "array([0, 0, 0, ..., 0, 0, 0], dtype=int64)"
      ]
     },
     "execution_count": 24,
     "metadata": {},
     "output_type": "execute_result"
    }
   ],
   "source": [
    "y = np.array(df['conversion'])\n",
    "y"
   ]
  },
  {
   "cell_type": "code",
   "execution_count": 25,
   "metadata": {},
   "outputs": [
    {
     "data": {
      "text/plain": [
       "(32644,)"
      ]
     },
     "execution_count": 25,
     "metadata": {},
     "output_type": "execute_result"
    }
   ],
   "source": [
    "y.shape"
   ]
  },
  {
   "cell_type": "code",
   "execution_count": 26,
   "metadata": {},
   "outputs": [],
   "source": [
    "from sklearn.model_selection import train_test_split\n",
    "X_train,X_test,y_train,y_test = train_test_split(X,y,test_size = 0.2, random_state=42)"
   ]
  },
  {
   "cell_type": "code",
   "execution_count": 27,
   "metadata": {},
   "outputs": [
    {
     "data": {
      "text/plain": [
       "array([[ 0,  0,  0, ..., 10, 23, 18],\n",
       "       [ 0,  0,  0, ..., 10, 23, 18],\n",
       "       [ 0,  0,  0, ..., 10, 23, 18],\n",
       "       ...,\n",
       "       [ 0,  0,  0, ...,  7, 23, 18],\n",
       "       [ 0,  0,  0, ..., 10, 23, 18],\n",
       "       [ 0,  0,  0, ...,  7, 23, 18]])"
      ]
     },
     "execution_count": 27,
     "metadata": {},
     "output_type": "execute_result"
    }
   ],
   "source": [
    "X_train"
   ]
  },
  {
   "cell_type": "code",
   "execution_count": 28,
   "metadata": {},
   "outputs": [
    {
     "data": {
      "text/plain": [
       "26115"
      ]
     },
     "execution_count": 28,
     "metadata": {},
     "output_type": "execute_result"
    }
   ],
   "source": [
    "num_events = len(X_train)\n",
    "num_events"
   ]
  },
  {
   "cell_type": "code",
   "execution_count": 29,
   "metadata": {},
   "outputs": [
    {
     "name": "stdout",
     "output_type": "stream",
     "text": [
      "Model: \"model\"\n",
      "_________________________________________________________________\n",
      " Layer (type)                Output Shape              Param #   \n",
      "=================================================================\n",
      " input_1 (InputLayer)        [(None, 47)]              0         \n",
      "                                                                 \n",
      " embedding (Embedding)       (None, 47, 8)             208920    \n",
      "                                                                 \n",
      " masking (Masking)           (None, 47, 8)             0         \n",
      "                                                                 \n",
      " lstm (LSTM)                 (None, 64)                18688     \n",
      "                                                                 \n",
      " dense (Dense)               (None, 1)                 65        \n",
      "                                                                 \n",
      "=================================================================\n",
      "Total params: 227,673\n",
      "Trainable params: 227,673\n",
      "Non-trainable params: 0\n",
      "_________________________________________________________________\n",
      "Epoch 1/5\n",
      "653/653 [==============================] - 40s 53ms/step - loss: 0.2310 - acc: 0.9152 - val_loss: 0.1622 - val_acc: 0.9464\n",
      "Epoch 2/5\n",
      "653/653 [==============================] - 32s 49ms/step - loss: 0.1377 - acc: 0.9533 - val_loss: 0.1339 - val_acc: 0.9508\n",
      "Epoch 3/5\n",
      "653/653 [==============================] - 29s 45ms/step - loss: 0.1225 - acc: 0.9552 - val_loss: 0.1260 - val_acc: 0.9527\n",
      "Epoch 4/5\n",
      "653/653 [==============================] - 32s 48ms/step - loss: 0.1180 - acc: 0.9553 - val_loss: 0.1236 - val_acc: 0.9527\n",
      "Epoch 5/5\n",
      "653/653 [==============================] - 31s 48ms/step - loss: 0.1155 - acc: 0.9561 - val_loss: 0.1207 - val_acc: 0.9525\n"
     ]
    }
   ],
   "source": [
    "from keras.layers import  Embedding, LSTM, Masking, Input, Dense\n",
    "from keras import  Model\n",
    "import random\n",
    "\n",
    "y = y_train\n",
    "x = X_train\n",
    "\n",
    "net_in = Input(shape=(seq_len,))\n",
    "emb = Embedding(num_events,8, input_length=seq_len, mask_zero=True, input_shape=(num_events,))(net_in)\n",
    "mask = Masking(mask_value=0)(emb)\n",
    "lstm = LSTM(64)(mask)\n",
    "dense = Dense(1, activation='sigmoid')(lstm)\n",
    "model = Model(net_in, dense)\n",
    "model.compile('adam', 'binary_crossentropy', metrics=['acc'])\n",
    "model.summary()\n",
    "\n",
    "history = model.fit(x, y, epochs = 5, validation_split=0.2)"
   ]
  },
  {
   "cell_type": "code",
   "execution_count": 30,
   "metadata": {},
   "outputs": [],
   "source": [
    "model.save('lstm_model.h5')"
   ]
  },
  {
   "cell_type": "code",
   "execution_count": 31,
   "metadata": {},
   "outputs": [
    {
     "data": {
      "text/plain": [
       "array([[0.002707  ],\n",
       "       [0.00066155],\n",
       "       [0.00066155],\n",
       "       ...,\n",
       "       [0.00066155],\n",
       "       [0.16366988],\n",
       "       [0.16366994]], dtype=float32)"
      ]
     },
     "execution_count": 31,
     "metadata": {},
     "output_type": "execute_result"
    }
   ],
   "source": [
    "model.save('lstm_model.h5')\n",
    "from keras.models import load_model\n",
    "model = load_model('lstm_model.h5')\n",
    "yhat = model.predict(X_test, verbose=0)\n",
    "yhat"
   ]
  },
  {
   "cell_type": "code",
   "execution_count": 32,
   "metadata": {},
   "outputs": [],
   "source": [
    "yhat = pd.DataFrame(yhat)"
   ]
  },
  {
   "cell_type": "code",
   "execution_count": 33,
   "metadata": {},
   "outputs": [
    {
     "data": {
      "text/html": [
       "<div>\n",
       "<style scoped>\n",
       "    .dataframe tbody tr th:only-of-type {\n",
       "        vertical-align: middle;\n",
       "    }\n",
       "\n",
       "    .dataframe tbody tr th {\n",
       "        vertical-align: top;\n",
       "    }\n",
       "\n",
       "    .dataframe thead th {\n",
       "        text-align: right;\n",
       "    }\n",
       "</style>\n",
       "<table border=\"1\" class=\"dataframe\">\n",
       "  <thead>\n",
       "    <tr style=\"text-align: right;\">\n",
       "      <th></th>\n",
       "      <th>0</th>\n",
       "    </tr>\n",
       "  </thead>\n",
       "  <tbody>\n",
       "    <tr>\n",
       "      <th>0</th>\n",
       "      <td>0.002707</td>\n",
       "    </tr>\n",
       "    <tr>\n",
       "      <th>1</th>\n",
       "      <td>0.000662</td>\n",
       "    </tr>\n",
       "    <tr>\n",
       "      <th>2</th>\n",
       "      <td>0.000662</td>\n",
       "    </tr>\n",
       "    <tr>\n",
       "      <th>3</th>\n",
       "      <td>0.000662</td>\n",
       "    </tr>\n",
       "    <tr>\n",
       "      <th>4</th>\n",
       "      <td>0.002707</td>\n",
       "    </tr>\n",
       "    <tr>\n",
       "      <th>...</th>\n",
       "      <td>...</td>\n",
       "    </tr>\n",
       "    <tr>\n",
       "      <th>6524</th>\n",
       "      <td>0.000662</td>\n",
       "    </tr>\n",
       "    <tr>\n",
       "      <th>6525</th>\n",
       "      <td>0.000662</td>\n",
       "    </tr>\n",
       "    <tr>\n",
       "      <th>6526</th>\n",
       "      <td>0.000662</td>\n",
       "    </tr>\n",
       "    <tr>\n",
       "      <th>6527</th>\n",
       "      <td>0.163670</td>\n",
       "    </tr>\n",
       "    <tr>\n",
       "      <th>6528</th>\n",
       "      <td>0.163670</td>\n",
       "    </tr>\n",
       "  </tbody>\n",
       "</table>\n",
       "<p>6529 rows × 1 columns</p>\n",
       "</div>"
      ],
      "text/plain": [
       "             0\n",
       "0     0.002707\n",
       "1     0.000662\n",
       "2     0.000662\n",
       "3     0.000662\n",
       "4     0.002707\n",
       "...        ...\n",
       "6524  0.000662\n",
       "6525  0.000662\n",
       "6526  0.000662\n",
       "6527  0.163670\n",
       "6528  0.163670\n",
       "\n",
       "[6529 rows x 1 columns]"
      ]
     },
     "execution_count": 33,
     "metadata": {},
     "output_type": "execute_result"
    }
   ],
   "source": [
    "yhat"
   ]
  },
  {
   "cell_type": "code",
   "execution_count": 35,
   "metadata": {},
   "outputs": [],
   "source": [
    "yhat.to_csv('predictions.csv',index = False)"
   ]
  },
  {
   "cell_type": "code",
   "execution_count": 42,
   "metadata": {},
   "outputs": [
    {
     "data": {
      "text/html": [
       "<div>\n",
       "<style scoped>\n",
       "    .dataframe tbody tr th:only-of-type {\n",
       "        vertical-align: middle;\n",
       "    }\n",
       "\n",
       "    .dataframe tbody tr th {\n",
       "        vertical-align: top;\n",
       "    }\n",
       "\n",
       "    .dataframe thead th {\n",
       "        text-align: right;\n",
       "    }\n",
       "</style>\n",
       "<table border=\"1\" class=\"dataframe\">\n",
       "  <thead>\n",
       "    <tr style=\"text-align: right;\">\n",
       "      <th></th>\n",
       "      <th>market_chan</th>\n",
       "      <th>encoding</th>\n",
       "      <th>conversion</th>\n",
       "    </tr>\n",
       "  </thead>\n",
       "  <tbody>\n",
       "    <tr>\n",
       "      <th>0</th>\n",
       "      <td>[Email newsletter(Marketing), LinkedIn ad(Cont...</td>\n",
       "      <td>[4, 10, 23, 18]</td>\n",
       "      <td>0</td>\n",
       "    </tr>\n",
       "    <tr>\n",
       "      <th>1</th>\n",
       "      <td>[Email newsletter(Marketing), LinkedIn ad(Cont...</td>\n",
       "      <td>[4, 10, 23, 18]</td>\n",
       "      <td>0</td>\n",
       "    </tr>\n",
       "    <tr>\n",
       "      <th>2</th>\n",
       "      <td>[Email newsletter(Marketing), LinkedIn ad(Cont...</td>\n",
       "      <td>[4, 10, 23, 18]</td>\n",
       "      <td>0</td>\n",
       "    </tr>\n",
       "    <tr>\n",
       "      <th>3</th>\n",
       "      <td>[Email newsletter(Marketing), LinkedIn ad(Cont...</td>\n",
       "      <td>[4, 10, 23, 18]</td>\n",
       "      <td>0</td>\n",
       "    </tr>\n",
       "    <tr>\n",
       "      <th>4</th>\n",
       "      <td>[Email newsletter(Marketing), LinkedIn ad(Cont...</td>\n",
       "      <td>[4, 10, 23, 18]</td>\n",
       "      <td>0</td>\n",
       "    </tr>\n",
       "    <tr>\n",
       "      <th>...</th>\n",
       "      <td>...</td>\n",
       "      <td>...</td>\n",
       "      <td>...</td>\n",
       "    </tr>\n",
       "    <tr>\n",
       "      <th>129943</th>\n",
       "      <td>[YouTube(Announcements), LinkedIn ad(Webinar/C...</td>\n",
       "      <td>[21, 12, 17]</td>\n",
       "      <td>0</td>\n",
       "    </tr>\n",
       "    <tr>\n",
       "      <th>129954</th>\n",
       "      <td>[Google ad(Webinar/Conference), Google ad(Webi...</td>\n",
       "      <td>[9, 9, 9, 21, 17, 21]</td>\n",
       "      <td>1</td>\n",
       "    </tr>\n",
       "    <tr>\n",
       "      <th>129965</th>\n",
       "      <td>[Google ad(Webinar/Conference), Google ad(Webi...</td>\n",
       "      <td>[9, 9, 21, 6, 12]</td>\n",
       "      <td>0</td>\n",
       "    </tr>\n",
       "    <tr>\n",
       "      <th>129986</th>\n",
       "      <td>[LinkedIn ad(Webinar/Conference), YouTube(Anno...</td>\n",
       "      <td>[12, 21, 12, 6]</td>\n",
       "      <td>0</td>\n",
       "    </tr>\n",
       "    <tr>\n",
       "      <th>129997</th>\n",
       "      <td>[Published article(Financial_times), YouTube(A...</td>\n",
       "      <td>[14, 21, 6, 21]</td>\n",
       "      <td>0</td>\n",
       "    </tr>\n",
       "  </tbody>\n",
       "</table>\n",
       "<p>32644 rows × 3 columns</p>\n",
       "</div>"
      ],
      "text/plain": [
       "                                              market_chan  \\\n",
       "0       [Email newsletter(Marketing), LinkedIn ad(Cont...   \n",
       "1       [Email newsletter(Marketing), LinkedIn ad(Cont...   \n",
       "2       [Email newsletter(Marketing), LinkedIn ad(Cont...   \n",
       "3       [Email newsletter(Marketing), LinkedIn ad(Cont...   \n",
       "4       [Email newsletter(Marketing), LinkedIn ad(Cont...   \n",
       "...                                                   ...   \n",
       "129943  [YouTube(Announcements), LinkedIn ad(Webinar/C...   \n",
       "129954  [Google ad(Webinar/Conference), Google ad(Webi...   \n",
       "129965  [Google ad(Webinar/Conference), Google ad(Webi...   \n",
       "129986  [LinkedIn ad(Webinar/Conference), YouTube(Anno...   \n",
       "129997  [Published article(Financial_times), YouTube(A...   \n",
       "\n",
       "                     encoding  conversion  \n",
       "0             [4, 10, 23, 18]           0  \n",
       "1             [4, 10, 23, 18]           0  \n",
       "2             [4, 10, 23, 18]           0  \n",
       "3             [4, 10, 23, 18]           0  \n",
       "4             [4, 10, 23, 18]           0  \n",
       "...                       ...         ...  \n",
       "129943           [21, 12, 17]           0  \n",
       "129954  [9, 9, 9, 21, 17, 21]           1  \n",
       "129965      [9, 9, 21, 6, 12]           0  \n",
       "129986        [12, 21, 12, 6]           0  \n",
       "129997        [14, 21, 6, 21]           0  \n",
       "\n",
       "[32644 rows x 3 columns]"
      ]
     },
     "execution_count": 42,
     "metadata": {},
     "output_type": "execute_result"
    }
   ],
   "source": [
    "df1 = df[['market_chan','encoding','conversion']]\n",
    "df1"
   ]
  },
  {
   "cell_type": "code",
   "execution_count": 43,
   "metadata": {},
   "outputs": [
    {
     "data": {
      "text/html": [
       "<div>\n",
       "<style scoped>\n",
       "    .dataframe tbody tr th:only-of-type {\n",
       "        vertical-align: middle;\n",
       "    }\n",
       "\n",
       "    .dataframe tbody tr th {\n",
       "        vertical-align: top;\n",
       "    }\n",
       "\n",
       "    .dataframe thead th {\n",
       "        text-align: right;\n",
       "    }\n",
       "</style>\n",
       "<table border=\"1\" class=\"dataframe\">\n",
       "  <thead>\n",
       "    <tr style=\"text-align: right;\">\n",
       "      <th></th>\n",
       "      <th>market_chan</th>\n",
       "      <th>encoding</th>\n",
       "    </tr>\n",
       "  </thead>\n",
       "  <tbody>\n",
       "    <tr>\n",
       "      <th>0</th>\n",
       "      <td>[Email newsletter(Marketing), LinkedIn ad(Cont...</td>\n",
       "      <td>[4, 10, 23, 18]</td>\n",
       "    </tr>\n",
       "    <tr>\n",
       "      <th>1</th>\n",
       "      <td>[Email newsletter(Marketing), LinkedIn ad(Cont...</td>\n",
       "      <td>[4, 10, 23, 18]</td>\n",
       "    </tr>\n",
       "    <tr>\n",
       "      <th>2</th>\n",
       "      <td>[Email newsletter(Marketing), LinkedIn ad(Cont...</td>\n",
       "      <td>[4, 10, 23, 18]</td>\n",
       "    </tr>\n",
       "    <tr>\n",
       "      <th>3</th>\n",
       "      <td>[Email newsletter(Marketing), LinkedIn ad(Cont...</td>\n",
       "      <td>[4, 10, 23, 18]</td>\n",
       "    </tr>\n",
       "    <tr>\n",
       "      <th>4</th>\n",
       "      <td>[Email newsletter(Marketing), LinkedIn ad(Cont...</td>\n",
       "      <td>[4, 10, 23, 18]</td>\n",
       "    </tr>\n",
       "    <tr>\n",
       "      <th>...</th>\n",
       "      <td>...</td>\n",
       "      <td>...</td>\n",
       "    </tr>\n",
       "    <tr>\n",
       "      <th>129943</th>\n",
       "      <td>[YouTube(Announcements), LinkedIn ad(Webinar/C...</td>\n",
       "      <td>[21, 12, 17]</td>\n",
       "    </tr>\n",
       "    <tr>\n",
       "      <th>129954</th>\n",
       "      <td>[Google ad(Webinar/Conference), Google ad(Webi...</td>\n",
       "      <td>[9, 9, 9, 21, 17, 21]</td>\n",
       "    </tr>\n",
       "    <tr>\n",
       "      <th>129965</th>\n",
       "      <td>[Google ad(Webinar/Conference), Google ad(Webi...</td>\n",
       "      <td>[9, 9, 21, 6, 12]</td>\n",
       "    </tr>\n",
       "    <tr>\n",
       "      <th>129986</th>\n",
       "      <td>[LinkedIn ad(Webinar/Conference), YouTube(Anno...</td>\n",
       "      <td>[12, 21, 12, 6]</td>\n",
       "    </tr>\n",
       "    <tr>\n",
       "      <th>129997</th>\n",
       "      <td>[Published article(Financial_times), YouTube(A...</td>\n",
       "      <td>[14, 21, 6, 21]</td>\n",
       "    </tr>\n",
       "  </tbody>\n",
       "</table>\n",
       "<p>32644 rows × 2 columns</p>\n",
       "</div>"
      ],
      "text/plain": [
       "                                              market_chan  \\\n",
       "0       [Email newsletter(Marketing), LinkedIn ad(Cont...   \n",
       "1       [Email newsletter(Marketing), LinkedIn ad(Cont...   \n",
       "2       [Email newsletter(Marketing), LinkedIn ad(Cont...   \n",
       "3       [Email newsletter(Marketing), LinkedIn ad(Cont...   \n",
       "4       [Email newsletter(Marketing), LinkedIn ad(Cont...   \n",
       "...                                                   ...   \n",
       "129943  [YouTube(Announcements), LinkedIn ad(Webinar/C...   \n",
       "129954  [Google ad(Webinar/Conference), Google ad(Webi...   \n",
       "129965  [Google ad(Webinar/Conference), Google ad(Webi...   \n",
       "129986  [LinkedIn ad(Webinar/Conference), YouTube(Anno...   \n",
       "129997  [Published article(Financial_times), YouTube(A...   \n",
       "\n",
       "                     encoding  \n",
       "0             [4, 10, 23, 18]  \n",
       "1             [4, 10, 23, 18]  \n",
       "2             [4, 10, 23, 18]  \n",
       "3             [4, 10, 23, 18]  \n",
       "4             [4, 10, 23, 18]  \n",
       "...                       ...  \n",
       "129943           [21, 12, 17]  \n",
       "129954  [9, 9, 9, 21, 17, 21]  \n",
       "129965      [9, 9, 21, 6, 12]  \n",
       "129986        [12, 21, 12, 6]  \n",
       "129997        [14, 21, 6, 21]  \n",
       "\n",
       "[32644 rows x 2 columns]"
      ]
     },
     "execution_count": 43,
     "metadata": {},
     "output_type": "execute_result"
    }
   ],
   "source": [
    "X1 = df1[['market_chan','encoding']]\n",
    "X1"
   ]
  },
  {
   "cell_type": "code",
   "execution_count": 44,
   "metadata": {},
   "outputs": [],
   "source": [
    "y1 = df1['conversion']"
   ]
  },
  {
   "cell_type": "code",
   "execution_count": 45,
   "metadata": {},
   "outputs": [],
   "source": [
    "x_train,x_test,y_train1,y_test1 = train_test_split(X1,y1,test_size=0.2,random_state=42)"
   ]
  },
  {
   "cell_type": "code",
   "execution_count": 47,
   "metadata": {},
   "outputs": [
    {
     "data": {
      "text/html": [
       "<div>\n",
       "<style scoped>\n",
       "    .dataframe tbody tr th:only-of-type {\n",
       "        vertical-align: middle;\n",
       "    }\n",
       "\n",
       "    .dataframe tbody tr th {\n",
       "        vertical-align: top;\n",
       "    }\n",
       "\n",
       "    .dataframe thead th {\n",
       "        text-align: right;\n",
       "    }\n",
       "</style>\n",
       "<table border=\"1\" class=\"dataframe\">\n",
       "  <thead>\n",
       "    <tr style=\"text-align: right;\">\n",
       "      <th></th>\n",
       "      <th>market_chan</th>\n",
       "      <th>encoding</th>\n",
       "    </tr>\n",
       "  </thead>\n",
       "  <tbody>\n",
       "    <tr>\n",
       "      <th>82000</th>\n",
       "      <td>[Email newsletter(Marketing), LinkedIn ad(Webi...</td>\n",
       "      <td>[4, 12, 23, 18]</td>\n",
       "    </tr>\n",
       "    <tr>\n",
       "      <th>35000</th>\n",
       "      <td>[Email newsletter(Marketing), LinkedIn ad(Cont...</td>\n",
       "      <td>[4, 10, 23, 18]</td>\n",
       "    </tr>\n",
       "    <tr>\n",
       "      <th>28842</th>\n",
       "      <td>[Email newsletter(Marketing), LinkedIn ad(Cont...</td>\n",
       "      <td>[4, 10, 23, 18]</td>\n",
       "    </tr>\n",
       "    <tr>\n",
       "      <th>1946</th>\n",
       "      <td>[Email newsletter(Marketing), LinkedIn ad(Cont...</td>\n",
       "      <td>[4, 10, 23, 18]</td>\n",
       "    </tr>\n",
       "    <tr>\n",
       "      <th>68447</th>\n",
       "      <td>[Email newsletter(Marketing), LinkedIn ad(Webi...</td>\n",
       "      <td>[4, 12, 23, 18]</td>\n",
       "    </tr>\n",
       "    <tr>\n",
       "      <th>...</th>\n",
       "      <td>...</td>\n",
       "      <td>...</td>\n",
       "    </tr>\n",
       "    <tr>\n",
       "      <th>42111</th>\n",
       "      <td>[Email newsletter(Marketing), LinkedIn ad(Cont...</td>\n",
       "      <td>[4, 10, 23, 18]</td>\n",
       "    </tr>\n",
       "    <tr>\n",
       "      <th>38094</th>\n",
       "      <td>[Email newsletter(Marketing), LinkedIn ad(Cont...</td>\n",
       "      <td>[4, 10, 23, 18]</td>\n",
       "    </tr>\n",
       "    <tr>\n",
       "      <th>49991</th>\n",
       "      <td>[Email newsletter(Marketing), LinkedIn ad(Cont...</td>\n",
       "      <td>[4, 10, 23, 18]</td>\n",
       "    </tr>\n",
       "    <tr>\n",
       "      <th>43002</th>\n",
       "      <td>[Google ad(Display_ad_campaign), YouTube(Produ...</td>\n",
       "      <td>[7, 23, 18]</td>\n",
       "    </tr>\n",
       "    <tr>\n",
       "      <th>62178</th>\n",
       "      <td>[Google ad(Display_ad_campaign), YouTube(Produ...</td>\n",
       "      <td>[7, 23, 18]</td>\n",
       "    </tr>\n",
       "  </tbody>\n",
       "</table>\n",
       "<p>6529 rows × 2 columns</p>\n",
       "</div>"
      ],
      "text/plain": [
       "                                             market_chan         encoding\n",
       "82000  [Email newsletter(Marketing), LinkedIn ad(Webi...  [4, 12, 23, 18]\n",
       "35000  [Email newsletter(Marketing), LinkedIn ad(Cont...  [4, 10, 23, 18]\n",
       "28842  [Email newsletter(Marketing), LinkedIn ad(Cont...  [4, 10, 23, 18]\n",
       "1946   [Email newsletter(Marketing), LinkedIn ad(Cont...  [4, 10, 23, 18]\n",
       "68447  [Email newsletter(Marketing), LinkedIn ad(Webi...  [4, 12, 23, 18]\n",
       "...                                                  ...              ...\n",
       "42111  [Email newsletter(Marketing), LinkedIn ad(Cont...  [4, 10, 23, 18]\n",
       "38094  [Email newsletter(Marketing), LinkedIn ad(Cont...  [4, 10, 23, 18]\n",
       "49991  [Email newsletter(Marketing), LinkedIn ad(Cont...  [4, 10, 23, 18]\n",
       "43002  [Google ad(Display_ad_campaign), YouTube(Produ...      [7, 23, 18]\n",
       "62178  [Google ad(Display_ad_campaign), YouTube(Produ...      [7, 23, 18]\n",
       "\n",
       "[6529 rows x 2 columns]"
      ]
     },
     "execution_count": 47,
     "metadata": {},
     "output_type": "execute_result"
    }
   ],
   "source": [
    "x_test"
   ]
  },
  {
   "cell_type": "code",
   "execution_count": 54,
   "metadata": {},
   "outputs": [
    {
     "data": {
      "text/plain": [
       "array([[ 0,  0,  0, ..., 10, 23, 18],\n",
       "       [ 0,  0,  0, ..., 10, 23, 18],\n",
       "       [ 0,  0,  0, ..., 10, 23, 18],\n",
       "       ...,\n",
       "       [ 0,  0,  0, ...,  7, 23, 18],\n",
       "       [ 0,  0,  0, ..., 10, 23, 18],\n",
       "       [ 0,  0,  0, ...,  7, 23, 18]])"
      ]
     },
     "execution_count": 54,
     "metadata": {},
     "output_type": "execute_result"
    }
   ],
   "source": [
    "p = np.array(x_train['encoding'])\n",
    "p = pad_sequences(p,seq_len)\n",
    "p"
   ]
  },
  {
   "cell_type": "code",
   "execution_count": 49,
   "metadata": {},
   "outputs": [],
   "source": [
    "q = np.array(y_train1)"
   ]
  },
  {
   "cell_type": "code",
   "execution_count": 53,
   "metadata": {},
   "outputs": [
    {
     "data": {
      "text/plain": [
       "array([0, 0, 0, ..., 0, 0, 0], dtype=int64)"
      ]
     },
     "execution_count": 53,
     "metadata": {},
     "output_type": "execute_result"
    }
   ],
   "source": [
    "q"
   ]
  },
  {
   "cell_type": "code",
   "execution_count": 55,
   "metadata": {},
   "outputs": [
    {
     "name": "stdout",
     "output_type": "stream",
     "text": [
      "Model: \"model_2\"\n",
      "_________________________________________________________________\n",
      " Layer (type)                Output Shape              Param #   \n",
      "=================================================================\n",
      " input_3 (InputLayer)        [(None, 47)]              0         \n",
      "                                                                 \n",
      " embedding_2 (Embedding)     (None, 47, 32)            835680    \n",
      "                                                                 \n",
      " masking_2 (Masking)         (None, 47, 32)            0         \n",
      "                                                                 \n",
      " lstm_2 (LSTM)               (None, 64)                24832     \n",
      "                                                                 \n",
      " dense_2 (Dense)             (None, 1)                 65        \n",
      "                                                                 \n",
      "=================================================================\n",
      "Total params: 860,577\n",
      "Trainable params: 860,577\n",
      "Non-trainable params: 0\n",
      "_________________________________________________________________\n",
      "Epoch 1/5\n",
      "653/653 [==============================] - 53s 71ms/step - loss: 0.2038 - acc: 0.9289 - val_loss: 0.1409 - val_acc: 0.9506\n",
      "Epoch 2/5\n",
      "653/653 [==============================] - 42s 64ms/step - loss: 0.1234 - acc: 0.9545 - val_loss: 0.1269 - val_acc: 0.9519\n",
      "Epoch 3/5\n",
      "653/653 [==============================] - 43s 66ms/step - loss: 0.1176 - acc: 0.9554 - val_loss: 0.1221 - val_acc: 0.9537\n",
      "Epoch 4/5\n",
      "653/653 [==============================] - 43s 66ms/step - loss: 0.1133 - acc: 0.9566 - val_loss: 0.1188 - val_acc: 0.9535\n",
      "Epoch 5/5\n",
      "653/653 [==============================] - 43s 66ms/step - loss: 0.1119 - acc: 0.9577 - val_loss: 0.1180 - val_acc: 0.9540\n"
     ]
    }
   ],
   "source": [
    "from keras.layers import  Embedding, LSTM, Masking, Input, Dense\n",
    "from keras import  Model\n",
    "import random\n",
    "\n",
    "y = q\n",
    "x = p\n",
    "\n",
    "net_in = Input(shape=(seq_len,))\n",
    "emb = Embedding(num_events,32, input_length=seq_len, mask_zero=True, input_shape=(num_events,))(net_in)\n",
    "mask = Masking(mask_value=0)(emb)\n",
    "lstm = LSTM(64)(mask)\n",
    "dense = Dense(1, activation='sigmoid')(lstm)\n",
    "model = Model(net_in, dense)\n",
    "model.compile('adam', 'binary_crossentropy', metrics=['acc'])\n",
    "model.summary()\n",
    "\n",
    "history = model.fit(x, y, epochs = 5, validation_split=0.2)"
   ]
  },
  {
   "cell_type": "code",
   "execution_count": 57,
   "metadata": {},
   "outputs": [
    {
     "data": {
      "text/plain": [
       "array([[0.00119981],\n",
       "       [0.00019529],\n",
       "       [0.00019529],\n",
       "       ...,\n",
       "       [0.00019529],\n",
       "       [0.17015132],\n",
       "       [0.17015135]], dtype=float32)"
      ]
     },
     "execution_count": 57,
     "metadata": {},
     "output_type": "execute_result"
    }
   ],
   "source": [
    "model.save('lstm_model1.h5')\n",
    "from keras.models import load_model\n",
    "model = load_model('lstm_model1.h5')\n",
    "y_hat = model.predict(X_test, verbose=0)\n",
    "y_hat"
   ]
  },
  {
   "cell_type": "code",
   "execution_count": 62,
   "metadata": {},
   "outputs": [
    {
     "data": {
      "text/plain": [
       "(6529, 1)"
      ]
     },
     "execution_count": 62,
     "metadata": {},
     "output_type": "execute_result"
    }
   ],
   "source": [
    "y_hat.shape"
   ]
  },
  {
   "cell_type": "code",
   "execution_count": 65,
   "metadata": {},
   "outputs": [],
   "source": [
    "y_hat = y_hat.reshape((6529,))"
   ]
  },
  {
   "cell_type": "code",
   "execution_count": 67,
   "metadata": {},
   "outputs": [
    {
     "data": {
      "text/plain": [
       "array([0.00119981, 0.00019529, 0.00019529, ..., 0.00019529, 0.17015132,\n",
       "       0.17015135], dtype=float32)"
      ]
     },
     "execution_count": 67,
     "metadata": {},
     "output_type": "execute_result"
    }
   ],
   "source": [
    "y_hat"
   ]
  },
  {
   "cell_type": "code",
   "execution_count": 68,
   "metadata": {},
   "outputs": [
    {
     "data": {
      "text/plain": [
       "0       0.001200\n",
       "1       0.000195\n",
       "2       0.000195\n",
       "3       0.000195\n",
       "4       0.001200\n",
       "          ...   \n",
       "6524    0.000195\n",
       "6525    0.000195\n",
       "6526    0.000195\n",
       "6527    0.170151\n",
       "6528    0.170151\n",
       "Length: 6529, dtype: float32"
      ]
     },
     "execution_count": 68,
     "metadata": {},
     "output_type": "execute_result"
    }
   ],
   "source": [
    "pd.Series(y_hat)"
   ]
  },
  {
   "cell_type": "code",
   "execution_count": 77,
   "metadata": {},
   "outputs": [],
   "source": [
    "x_test = x_test.reset_index()"
   ]
  },
  {
   "cell_type": "code",
   "execution_count": 78,
   "metadata": {},
   "outputs": [
    {
     "name": "stdout",
     "output_type": "stream",
     "text": [
      "<class 'pandas.core.frame.DataFrame'>\n",
      "RangeIndex: 6529 entries, 0 to 6528\n",
      "Data columns (total 3 columns):\n",
      " #   Column       Non-Null Count  Dtype \n",
      "---  ------       --------------  ----- \n",
      " 0   index        6529 non-null   int64 \n",
      " 1   market_chan  6529 non-null   object\n",
      " 2   encoding     6529 non-null   object\n",
      "dtypes: int64(1), object(2)\n",
      "memory usage: 153.1+ KB\n"
     ]
    }
   ],
   "source": [
    "x_test.info()"
   ]
  },
  {
   "cell_type": "code",
   "execution_count": 79,
   "metadata": {},
   "outputs": [],
   "source": [
    "x_test.drop('index',axis=1,inplace = True)"
   ]
  },
  {
   "cell_type": "code",
   "execution_count": 80,
   "metadata": {},
   "outputs": [
    {
     "data": {
      "text/html": [
       "<div>\n",
       "<style scoped>\n",
       "    .dataframe tbody tr th:only-of-type {\n",
       "        vertical-align: middle;\n",
       "    }\n",
       "\n",
       "    .dataframe tbody tr th {\n",
       "        vertical-align: top;\n",
       "    }\n",
       "\n",
       "    .dataframe thead th {\n",
       "        text-align: right;\n",
       "    }\n",
       "</style>\n",
       "<table border=\"1\" class=\"dataframe\">\n",
       "  <thead>\n",
       "    <tr style=\"text-align: right;\">\n",
       "      <th></th>\n",
       "      <th>market_chan</th>\n",
       "      <th>encoding</th>\n",
       "    </tr>\n",
       "  </thead>\n",
       "  <tbody>\n",
       "    <tr>\n",
       "      <th>0</th>\n",
       "      <td>[Email newsletter(Marketing), LinkedIn ad(Webi...</td>\n",
       "      <td>[4, 12, 23, 18]</td>\n",
       "    </tr>\n",
       "    <tr>\n",
       "      <th>1</th>\n",
       "      <td>[Email newsletter(Marketing), LinkedIn ad(Cont...</td>\n",
       "      <td>[4, 10, 23, 18]</td>\n",
       "    </tr>\n",
       "    <tr>\n",
       "      <th>2</th>\n",
       "      <td>[Email newsletter(Marketing), LinkedIn ad(Cont...</td>\n",
       "      <td>[4, 10, 23, 18]</td>\n",
       "    </tr>\n",
       "    <tr>\n",
       "      <th>3</th>\n",
       "      <td>[Email newsletter(Marketing), LinkedIn ad(Cont...</td>\n",
       "      <td>[4, 10, 23, 18]</td>\n",
       "    </tr>\n",
       "    <tr>\n",
       "      <th>4</th>\n",
       "      <td>[Email newsletter(Marketing), LinkedIn ad(Webi...</td>\n",
       "      <td>[4, 12, 23, 18]</td>\n",
       "    </tr>\n",
       "    <tr>\n",
       "      <th>...</th>\n",
       "      <td>...</td>\n",
       "      <td>...</td>\n",
       "    </tr>\n",
       "    <tr>\n",
       "      <th>6524</th>\n",
       "      <td>[Email newsletter(Marketing), LinkedIn ad(Cont...</td>\n",
       "      <td>[4, 10, 23, 18]</td>\n",
       "    </tr>\n",
       "    <tr>\n",
       "      <th>6525</th>\n",
       "      <td>[Email newsletter(Marketing), LinkedIn ad(Cont...</td>\n",
       "      <td>[4, 10, 23, 18]</td>\n",
       "    </tr>\n",
       "    <tr>\n",
       "      <th>6526</th>\n",
       "      <td>[Email newsletter(Marketing), LinkedIn ad(Cont...</td>\n",
       "      <td>[4, 10, 23, 18]</td>\n",
       "    </tr>\n",
       "    <tr>\n",
       "      <th>6527</th>\n",
       "      <td>[Google ad(Display_ad_campaign), YouTube(Produ...</td>\n",
       "      <td>[7, 23, 18]</td>\n",
       "    </tr>\n",
       "    <tr>\n",
       "      <th>6528</th>\n",
       "      <td>[Google ad(Display_ad_campaign), YouTube(Produ...</td>\n",
       "      <td>[7, 23, 18]</td>\n",
       "    </tr>\n",
       "  </tbody>\n",
       "</table>\n",
       "<p>6529 rows × 2 columns</p>\n",
       "</div>"
      ],
      "text/plain": [
       "                                            market_chan         encoding\n",
       "0     [Email newsletter(Marketing), LinkedIn ad(Webi...  [4, 12, 23, 18]\n",
       "1     [Email newsletter(Marketing), LinkedIn ad(Cont...  [4, 10, 23, 18]\n",
       "2     [Email newsletter(Marketing), LinkedIn ad(Cont...  [4, 10, 23, 18]\n",
       "3     [Email newsletter(Marketing), LinkedIn ad(Cont...  [4, 10, 23, 18]\n",
       "4     [Email newsletter(Marketing), LinkedIn ad(Webi...  [4, 12, 23, 18]\n",
       "...                                                 ...              ...\n",
       "6524  [Email newsletter(Marketing), LinkedIn ad(Cont...  [4, 10, 23, 18]\n",
       "6525  [Email newsletter(Marketing), LinkedIn ad(Cont...  [4, 10, 23, 18]\n",
       "6526  [Email newsletter(Marketing), LinkedIn ad(Cont...  [4, 10, 23, 18]\n",
       "6527  [Google ad(Display_ad_campaign), YouTube(Produ...      [7, 23, 18]\n",
       "6528  [Google ad(Display_ad_campaign), YouTube(Produ...      [7, 23, 18]\n",
       "\n",
       "[6529 rows x 2 columns]"
      ]
     },
     "execution_count": 80,
     "metadata": {},
     "output_type": "execute_result"
    }
   ],
   "source": [
    "x_test"
   ]
  },
  {
   "cell_type": "code",
   "execution_count": 81,
   "metadata": {},
   "outputs": [
    {
     "data": {
      "text/html": [
       "<div>\n",
       "<style scoped>\n",
       "    .dataframe tbody tr th:only-of-type {\n",
       "        vertical-align: middle;\n",
       "    }\n",
       "\n",
       "    .dataframe tbody tr th {\n",
       "        vertical-align: top;\n",
       "    }\n",
       "\n",
       "    .dataframe thead th {\n",
       "        text-align: right;\n",
       "    }\n",
       "</style>\n",
       "<table border=\"1\" class=\"dataframe\">\n",
       "  <thead>\n",
       "    <tr style=\"text-align: right;\">\n",
       "      <th></th>\n",
       "      <th>market_chan</th>\n",
       "      <th>encoding</th>\n",
       "      <th>predictions</th>\n",
       "    </tr>\n",
       "  </thead>\n",
       "  <tbody>\n",
       "    <tr>\n",
       "      <th>0</th>\n",
       "      <td>[Email newsletter(Marketing), LinkedIn ad(Webi...</td>\n",
       "      <td>[4, 12, 23, 18]</td>\n",
       "      <td>0.001200</td>\n",
       "    </tr>\n",
       "    <tr>\n",
       "      <th>1</th>\n",
       "      <td>[Email newsletter(Marketing), LinkedIn ad(Cont...</td>\n",
       "      <td>[4, 10, 23, 18]</td>\n",
       "      <td>0.000195</td>\n",
       "    </tr>\n",
       "    <tr>\n",
       "      <th>2</th>\n",
       "      <td>[Email newsletter(Marketing), LinkedIn ad(Cont...</td>\n",
       "      <td>[4, 10, 23, 18]</td>\n",
       "      <td>0.000195</td>\n",
       "    </tr>\n",
       "    <tr>\n",
       "      <th>3</th>\n",
       "      <td>[Email newsletter(Marketing), LinkedIn ad(Cont...</td>\n",
       "      <td>[4, 10, 23, 18]</td>\n",
       "      <td>0.000195</td>\n",
       "    </tr>\n",
       "    <tr>\n",
       "      <th>4</th>\n",
       "      <td>[Email newsletter(Marketing), LinkedIn ad(Webi...</td>\n",
       "      <td>[4, 12, 23, 18]</td>\n",
       "      <td>0.001200</td>\n",
       "    </tr>\n",
       "    <tr>\n",
       "      <th>...</th>\n",
       "      <td>...</td>\n",
       "      <td>...</td>\n",
       "      <td>...</td>\n",
       "    </tr>\n",
       "    <tr>\n",
       "      <th>6524</th>\n",
       "      <td>[Email newsletter(Marketing), LinkedIn ad(Cont...</td>\n",
       "      <td>[4, 10, 23, 18]</td>\n",
       "      <td>0.000195</td>\n",
       "    </tr>\n",
       "    <tr>\n",
       "      <th>6525</th>\n",
       "      <td>[Email newsletter(Marketing), LinkedIn ad(Cont...</td>\n",
       "      <td>[4, 10, 23, 18]</td>\n",
       "      <td>0.000195</td>\n",
       "    </tr>\n",
       "    <tr>\n",
       "      <th>6526</th>\n",
       "      <td>[Email newsletter(Marketing), LinkedIn ad(Cont...</td>\n",
       "      <td>[4, 10, 23, 18]</td>\n",
       "      <td>0.000195</td>\n",
       "    </tr>\n",
       "    <tr>\n",
       "      <th>6527</th>\n",
       "      <td>[Google ad(Display_ad_campaign), YouTube(Produ...</td>\n",
       "      <td>[7, 23, 18]</td>\n",
       "      <td>0.170151</td>\n",
       "    </tr>\n",
       "    <tr>\n",
       "      <th>6528</th>\n",
       "      <td>[Google ad(Display_ad_campaign), YouTube(Produ...</td>\n",
       "      <td>[7, 23, 18]</td>\n",
       "      <td>0.170151</td>\n",
       "    </tr>\n",
       "  </tbody>\n",
       "</table>\n",
       "<p>6529 rows × 3 columns</p>\n",
       "</div>"
      ],
      "text/plain": [
       "                                            market_chan         encoding  \\\n",
       "0     [Email newsletter(Marketing), LinkedIn ad(Webi...  [4, 12, 23, 18]   \n",
       "1     [Email newsletter(Marketing), LinkedIn ad(Cont...  [4, 10, 23, 18]   \n",
       "2     [Email newsletter(Marketing), LinkedIn ad(Cont...  [4, 10, 23, 18]   \n",
       "3     [Email newsletter(Marketing), LinkedIn ad(Cont...  [4, 10, 23, 18]   \n",
       "4     [Email newsletter(Marketing), LinkedIn ad(Webi...  [4, 12, 23, 18]   \n",
       "...                                                 ...              ...   \n",
       "6524  [Email newsletter(Marketing), LinkedIn ad(Cont...  [4, 10, 23, 18]   \n",
       "6525  [Email newsletter(Marketing), LinkedIn ad(Cont...  [4, 10, 23, 18]   \n",
       "6526  [Email newsletter(Marketing), LinkedIn ad(Cont...  [4, 10, 23, 18]   \n",
       "6527  [Google ad(Display_ad_campaign), YouTube(Produ...      [7, 23, 18]   \n",
       "6528  [Google ad(Display_ad_campaign), YouTube(Produ...      [7, 23, 18]   \n",
       "\n",
       "      predictions  \n",
       "0        0.001200  \n",
       "1        0.000195  \n",
       "2        0.000195  \n",
       "3        0.000195  \n",
       "4        0.001200  \n",
       "...           ...  \n",
       "6524     0.000195  \n",
       "6525     0.000195  \n",
       "6526     0.000195  \n",
       "6527     0.170151  \n",
       "6528     0.170151  \n",
       "\n",
       "[6529 rows x 3 columns]"
      ]
     },
     "execution_count": 81,
     "metadata": {},
     "output_type": "execute_result"
    }
   ],
   "source": [
    "x_test['predictions'] = y_hat\n",
    "x_test"
   ]
  },
  {
   "cell_type": "code",
   "execution_count": 82,
   "metadata": {},
   "outputs": [],
   "source": [
    "x_test.to_csv('x_test_pred.csv',index=False)"
   ]
  },
  {
   "cell_type": "code",
   "execution_count": 84,
   "metadata": {},
   "outputs": [
    {
     "data": {
      "text/plain": [
       "array([0, 0, 0, ..., 0, 0, 1], dtype=int64)"
      ]
     },
     "execution_count": 84,
     "metadata": {},
     "output_type": "execute_result"
    }
   ],
   "source": [
    "y_test"
   ]
  },
  {
   "cell_type": "code",
   "execution_count": 93,
   "metadata": {},
   "outputs": [
    {
     "data": {
      "text/plain": [
       "[<matplotlib.lines.Line2D at 0x25ac6e69eb0>]"
      ]
     },
     "execution_count": 93,
     "metadata": {},
     "output_type": "execute_result"
    },
    {
     "data": {
      "image/png": "[encoded data removed]",
      "text/plain": [
       "<Figure size 432x288 with 1 Axes>"
      ]
     },
     "metadata": {
      "needs_background": "light"
     },
     "output_type": "display_data"
    }
   ],
   "source": [
    "from sklearn import metrics\n",
    "import matplotlib.pyplot as plt\n",
    "fpr, tpr, _ = metrics.roc_curve(y_test, y_hat)\n",
    "auc = round(metrics.roc_auc_score(y_test, y_hat), 4)\n",
    "plt.plot(fpr,tpr,label=\"LSTM, AUC=\"+str(auc),lw=2)\n",
    "plt.legend()\n",
    "plt.title(\"AUROC Curve using LSTM model\")\n",
    "plt.xlabel('False Positive Rate')\n",
    "plt.ylabel('True Positive Rate')\n",
    "xpoints = ypoints = plt.xlim()\n",
    "plt.plot(xpoints, ypoints, linestyle='--', color='r', lw=2, scalex=False, scaley=False)"
   ]
  },
  {
   "cell_type": "code",
   "execution_count": 95,
   "metadata": {},
   "outputs": [
    {
     "data": {
      "text/plain": [
       "Text(0, 0.5, 'Precision')"
      ]
     },
     "execution_count": 95,
     "metadata": {},
     "output_type": "execute_result"
    },
    {
     "data": {
      "image/png": "[encoded data removed]",
      "text/plain": [
       "<Figure size 432x288 with 1 Axes>"
      ]
     },
     "metadata": {
      "needs_background": "light"
     },
     "output_type": "display_data"
    }
   ],
   "source": [
    "precision, recall, thresholds = metrics.precision_recall_curve(y_test, y_hat)\n",
    "plt.plot(recall,precision,lw=2)\n",
    "plt.title(\"Precision Recall Curve using LSTM model\")\n",
    "plt.xlabel('Recall')\n",
    "plt.ylabel('Precision')"
   ]
  },
  {
   "cell_type": "code",
   "execution_count": null,
   "metadata": {},
   "outputs": [],
   "source": []
  }
 ],
 "metadata": {
  "kernelspec": {
   "display_name": "Python 3.9.7 ('base')",
   "language": "python",
   "name": "python3"
  },
  "language_info": {
   "codemirror_mode": {
    "name": "ipython",
    "version": 3
   },
   "file_extension": ".py",
   "mimetype": "text/x-python",
   "name": "python",
   "nbconvert_exporter": "python",
   "pygments_lexer": "ipython3",
   "version": "3.9.7"
  },
  "orig_nbformat": 4,
  "vscode": {
   "interpreter": {
    "hash": "52629beb9320ba2fd05c0e8be3925995090a58339b44f134217c54ba794dd7da"
   }
  }
 },
 "nbformat": 4,
 "nbformat_minor": 2
}
